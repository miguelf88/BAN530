{
 "cells": [
  {
   "cell_type": "markdown",
   "id": "a6a3fee2",
   "metadata": {},
   "source": [
    "# Bengaluru Restaurant Prescriptive Modeling"
   ]
  },
  {
   "cell_type": "markdown",
   "id": "67a08848",
   "metadata": {},
   "source": [
    "#### Miguel Fernandez\n",
    "#### BAN 530"
   ]
  },
  {
   "cell_type": "markdown",
   "id": "fce7f928",
   "metadata": {},
   "source": [
    "This notebook contains work related to prescriptive modeling, often called optimization modeling. The notebook will attempt to identify which cuisines and which neighborhood a restaurant should open in to maximize its rating. Weights for the various cuisines and neighbhorhoods have been generated using values from a boosted random forest model conducted in the previous phase of the project. That work can be found here. **ADD LINK**"
   ]
  },
  {
   "cell_type": "code",
   "execution_count": 1,
   "id": "25f7f4a6",
   "metadata": {},
   "outputs": [],
   "source": [
    "import pandas as pd\n",
    "from pulp import *"
   ]
  },
  {
   "cell_type": "code",
   "execution_count": 2,
   "id": "d575c8aa",
   "metadata": {},
   "outputs": [
    {
     "data": {
      "text/html": [
       "<div>\n",
       "<style scoped>\n",
       "    .dataframe tbody tr th:only-of-type {\n",
       "        vertical-align: middle;\n",
       "    }\n",
       "\n",
       "    .dataframe tbody tr th {\n",
       "        vertical-align: top;\n",
       "    }\n",
       "\n",
       "    .dataframe thead th {\n",
       "        text-align: right;\n",
       "    }\n",
       "</style>\n",
       "<table border=\"1\" class=\"dataframe\">\n",
       "  <thead>\n",
       "    <tr style=\"text-align: right;\">\n",
       "      <th></th>\n",
       "      <th>address</th>\n",
       "      <th>name</th>\n",
       "      <th>votes</th>\n",
       "      <th>location</th>\n",
       "      <th>dish_liked</th>\n",
       "      <th>cuisines</th>\n",
       "      <th>approx_cost(for_two_people)</th>\n",
       "      <th>final_rating</th>\n",
       "      <th>chain</th>\n",
       "      <th>online_order_bin</th>\n",
       "      <th>...</th>\n",
       "      <th>juices_bin</th>\n",
       "      <th>bengali_bin</th>\n",
       "      <th>bbq_bin</th>\n",
       "      <th>american_bin</th>\n",
       "      <th>healthy_food_bin</th>\n",
       "      <th>sandwich_bin</th>\n",
       "      <th>other_bin</th>\n",
       "      <th>cuisines_real_list</th>\n",
       "      <th>num_cuisines</th>\n",
       "      <th>validation</th>\n",
       "    </tr>\n",
       "  </thead>\n",
       "  <tbody>\n",
       "    <tr>\n",
       "      <th>0</th>\n",
       "      <td>16th Cross, Pragathi Layout, Doddankundi, Mara...</td>\n",
       "      <td>Palos</td>\n",
       "      <td>49</td>\n",
       "      <td>Marathahalli</td>\n",
       "      <td>NaN</td>\n",
       "      <td>Chinese, North Indian</td>\n",
       "      <td>300.0</td>\n",
       "      <td>3.3</td>\n",
       "      <td>0</td>\n",
       "      <td>1</td>\n",
       "      <td>...</td>\n",
       "      <td>0</td>\n",
       "      <td>0</td>\n",
       "      <td>0</td>\n",
       "      <td>0</td>\n",
       "      <td>0</td>\n",
       "      <td>0</td>\n",
       "      <td>0</td>\n",
       "      <td>['Chinese', 'NorthIndian']</td>\n",
       "      <td>2</td>\n",
       "      <td>train</td>\n",
       "    </tr>\n",
       "    <tr>\n",
       "      <th>1</th>\n",
       "      <td>688, 7th Main, 10th Cross Main Road, 2nd Stage...</td>\n",
       "      <td>Roti Wala</td>\n",
       "      <td>199</td>\n",
       "      <td>BTM</td>\n",
       "      <td>Gulab Jamun, Buttermilk, Egg Bhurji, Sprout Sa...</td>\n",
       "      <td>North Indian</td>\n",
       "      <td>300.0</td>\n",
       "      <td>4.0</td>\n",
       "      <td>0</td>\n",
       "      <td>1</td>\n",
       "      <td>...</td>\n",
       "      <td>0</td>\n",
       "      <td>0</td>\n",
       "      <td>0</td>\n",
       "      <td>0</td>\n",
       "      <td>0</td>\n",
       "      <td>0</td>\n",
       "      <td>0</td>\n",
       "      <td>['NorthIndian']</td>\n",
       "      <td>1</td>\n",
       "      <td>train</td>\n",
       "    </tr>\n",
       "    <tr>\n",
       "      <th>2</th>\n",
       "      <td>117, 1st Main, Jakkasandra Extension, Koramang...</td>\n",
       "      <td>Delhi Food Point</td>\n",
       "      <td>912</td>\n",
       "      <td>Koramangala 1st Block</td>\n",
       "      <td>Jeera Rice, Corn Paratha, Paneer Bhurji, Gobhi...</td>\n",
       "      <td>North Indian, Beverages</td>\n",
       "      <td>250.0</td>\n",
       "      <td>3.3</td>\n",
       "      <td>0</td>\n",
       "      <td>1</td>\n",
       "      <td>...</td>\n",
       "      <td>0</td>\n",
       "      <td>0</td>\n",
       "      <td>0</td>\n",
       "      <td>0</td>\n",
       "      <td>0</td>\n",
       "      <td>0</td>\n",
       "      <td>0</td>\n",
       "      <td>['NorthIndian', 'Beverages']</td>\n",
       "      <td>2</td>\n",
       "      <td>train</td>\n",
       "    </tr>\n",
       "  </tbody>\n",
       "</table>\n",
       "<p>3 rows × 87 columns</p>\n",
       "</div>"
      ],
      "text/plain": [
       "                                             address              name  votes  \\\n",
       "0  16th Cross, Pragathi Layout, Doddankundi, Mara...             Palos     49   \n",
       "1  688, 7th Main, 10th Cross Main Road, 2nd Stage...         Roti Wala    199   \n",
       "2  117, 1st Main, Jakkasandra Extension, Koramang...  Delhi Food Point    912   \n",
       "\n",
       "                location                                         dish_liked  \\\n",
       "0           Marathahalli                                                NaN   \n",
       "1                    BTM  Gulab Jamun, Buttermilk, Egg Bhurji, Sprout Sa...   \n",
       "2  Koramangala 1st Block  Jeera Rice, Corn Paratha, Paneer Bhurji, Gobhi...   \n",
       "\n",
       "                  cuisines  approx_cost(for_two_people)  final_rating  chain  \\\n",
       "0    Chinese, North Indian                        300.0           3.3      0   \n",
       "1             North Indian                        300.0           4.0      0   \n",
       "2  North Indian, Beverages                        250.0           3.3      0   \n",
       "\n",
       "   online_order_bin  ...  juices_bin  bengali_bin  bbq_bin  american_bin  \\\n",
       "0                 1  ...           0            0        0             0   \n",
       "1                 1  ...           0            0        0             0   \n",
       "2                 1  ...           0            0        0             0   \n",
       "\n",
       "   healthy_food_bin  sandwich_bin  other_bin            cuisines_real_list  \\\n",
       "0                 0             0          0    ['Chinese', 'NorthIndian']   \n",
       "1                 0             0          0               ['NorthIndian']   \n",
       "2                 0             0          0  ['NorthIndian', 'Beverages']   \n",
       "\n",
       "   num_cuisines  validation  \n",
       "0             2       train  \n",
       "1             1       train  \n",
       "2             2       train  \n",
       "\n",
       "[3 rows x 87 columns]"
      ]
     },
     "execution_count": 2,
     "metadata": {},
     "output_type": "execute_result"
    }
   ],
   "source": [
    "df = pd.read_csv('sampled_data.csv')\n",
    "\n",
    "df.head(3)"
   ]
  },
  {
   "cell_type": "code",
   "execution_count": 3,
   "id": "478db7bd",
   "metadata": {},
   "outputs": [],
   "source": [
    "# get neighborhood values\n",
    "neighborhood_lst = df.columns[12:52].tolist()\n",
    "\n",
    "# get cuisine values\n",
    "cuisines_lst = df.columns[53:84].tolist()"
   ]
  },
  {
   "cell_type": "code",
   "execution_count": 6,
   "id": "d9c62144",
   "metadata": {},
   "outputs": [],
   "source": [
    "# neighborhood_lst"
   ]
  },
  {
   "cell_type": "code",
   "execution_count": 7,
   "id": "c8ca3975",
   "metadata": {},
   "outputs": [],
   "source": [
    "# cuisines_lst"
   ]
  },
  {
   "cell_type": "code",
   "execution_count": 69,
   "id": "613dcd82",
   "metadata": {},
   "outputs": [],
   "source": [
    "# set up model\n",
    "model = LpProblem(name='restaurant_cuisine_neigborhood', sense=LpMaximize)"
   ]
  },
  {
   "cell_type": "code",
   "execution_count": 70,
   "id": "18508ace",
   "metadata": {},
   "outputs": [],
   "source": [
    "# set variables\n",
    "x = {i: LpVariable(name=f\"x{i}\", lowBound=0, cat='Binary') for i in cuisines_lst}\n",
    "y = {i: LpVariable(name=f\"y{i}\", lowBound=0, cat='Binary') for i in neighborhood_lst}"
   ]
  },
  {
   "cell_type": "markdown",
   "id": "1ae16e1a",
   "metadata": {},
   "source": [
    "### NEED TO ADD TONS OF CONSTRAINTS"
   ]
  },
  {
   "cell_type": "code",
   "execution_count": 71,
   "id": "59bb34e2",
   "metadata": {},
   "outputs": [],
   "source": [
    "# Add constraints\n",
    "model += (lpSum(y.values()) == 1, 'neighborhood_selection')\n",
    "model += (lpSum(x.values()) <= 4, 'cuisine_selection')\n",
    "\n",
    "# If Indiranagar then must NOT be healthy food\n",
    "model += (y['indiranagar_bin'] + x['healthy_food_bin'] <= 1, 'healthfood_not_in_indirangar')\n",
    "\n",
    "\n",
    "M = 100\n",
    "\n",
    "# If Koramangala 5th Block, then must serve Italian\n",
    "model += (y['koramangala_5th_block_bin'] <= x['italian_bin'] * M, '5th_block_italian')\n",
    "\n",
    "# If Koramangala 6th Block, then one must be Other\n"
   ]
  },
  {
   "cell_type": "markdown",
   "id": "eae5fb18",
   "metadata": {},
   "source": [
    "- If Indiranagar then must be Italian, pizza or beverage\n",
    "- \n",
    "- If MG Road, then must be Italian, Asian or Thai\n",
    "- \n",
    "- If Richmond Road, then must NOT be South Indian, North Indian, or Chinese\n",
    "- If JP Nagar, then must NOT be South Indian, North Indian, or Chinese\n",
    "- If Koramangala 7th Block, then must NOT be South Indian, North Indian, Chinese, Street Food, Fast Food\n",
    "- If Shanti Nagar, then must NOT be Mughlai, North Indian, Chinese\n",
    "- If Koramangala 5th Block, then must be at least one\tBiryani, Seafood, Andhra, North Indian\n",
    "- "
   ]
  },
  {
   "cell_type": "code",
   "execution_count": null,
   "id": "bb88871f",
   "metadata": {},
   "outputs": [],
   "source": []
  },
  {
   "cell_type": "code",
   "execution_count": null,
   "id": "700b3c88",
   "metadata": {},
   "outputs": [],
   "source": []
  },
  {
   "cell_type": "markdown",
   "id": "05208984",
   "metadata": {},
   "source": [
    "The values used in the objective function were pulled directly from the column contribution values in the JMP software for the boosted random forest model. "
   ]
  },
  {
   "cell_type": "code",
   "execution_count": 72,
   "id": "5c516e05",
   "metadata": {},
   "outputs": [],
   "source": [
    "# Set objective\n",
    "model += 0.0267 * x['north_indian_bin'] + 0.0243 * x['chinese_bin'] + 0.0088 * x['south_indian_bin'] + \\\n",
    "         0.0108 * x['biryani_bin'] + 0.0084 * x['fast_food_bin'] + 0.0022 * x['street_food_bin'] + \\\n",
    "         0.0030 * x['seafood_bin'] + 0.0038 * x['continental_bin'] + 0.0036 * x['andhra_bin'] + \\\n",
    "         0.0030 * x['beverages_bin'] + 0.0031 * x['mughlai_bin'] + 0.0028 * x['kerala_bin'] + \\\n",
    "         0.0026 * x['italian_bin'] + 0.0049 * x['rolls_bin'] + 0.0025 * x['momos_bin'] + \\\n",
    "         0.0049 * x['arabian_bin'] + 0.0072 * x['pizza_bin'] + 0.0026 * x['burger_bin'] + \\\n",
    "         0.0013 * x['kebab_bin'] + 0.0013 * x['thai_bin'] + 0.0018 * x['mangalorean_bin'] + \\\n",
    "         0.0012 * x['asian_bin'] + 0.0017 * x['desserts_bin'] + 0.0008 * x['salad_bin'] + \\\n",
    "         0.0007 * x['juices_bin'] + 0.0015 * x['bengali_bin'] + 0.0023 * x['bbq_bin'] + \\\n",
    "         0.0007 * x['american_bin'] + 0.0020 * x['healthy_food_bin'] + 0.0003 * x['sandwich_bin'] + \\\n",
    "         0.0176 * x['other_bin'] + \\\n",
    "         0.0011 * y['btm_bin'] + 0.0018 * y['hsr_bin'] + 0.0041 * y['jayanagar_bin'] + \\\n",
    "         0.0039 * y['koramangala_5th_block_bin'] + 0.0005 * y['jp_nagar_bin'] + 0.0094 * y['marathahalli_bin'] + \\\n",
    "         0.0012 * y['whitefield_bin'] + 0.0004 * y['indiranagar_bin'] + 0.0108 * y['bannerghatta_road_bin'] + \\\n",
    "         0.0085 * y['bellandur_bin'] + 0.0003 * y['koramangala_6th_block_bin'] + 0.0020 * y['electronic_city_bin'] + \\\n",
    "         0.0006 * y['brigade_road_bin'] + 0.0014 * y['koramangala_7th_block_bin'] + \\\n",
    "         0.0014 * y['koramangala_1st_block_bin'] + 0.0016 * y['ulsoor_bin'] + 0.0026 * y['sarjapur_road_bin'] + \\\n",
    "         0.0002 * y['banashankari_bin'] + 0.0011 * y['basavanagudi_bin'] + 0.0002 * y['kalyan_nagar_bin'] + \\\n",
    "         0.0021 * y['richmond_road_bin'] + 0.0002 * y['frazer_town_bin'] + 0.0036 * y['brookefield_bin'] + \\\n",
    "         0.0008 * y['rajajinagar_bin'] + 0.0008 * y['kammanahalli_bin'] + 0.0015 * y['banaswadi_bin'] + \\\n",
    "         0.0007 * y['malleshwaram_bin'] + 0.0000 * y['new_bel_road_bin'] + 0.0023 * y['koramangala_4th_block_bin'] + \\\n",
    "         0.0018 * y['cunningham_road_bin'] + 0.0146 * y['mg_road_bin'] + 0.0025 * y['shanti_nagar_bin'] + \\\n",
    "         0.0006 * y['church_street_bin'] + 0.0033 * y['residency_road_bin'] + 0.0000 * y['ejipura_bin'] + \\\n",
    "         0.0000 * y['shivajinagar_bin'] + 0.0009 * y['domlur_bin'] + 0.0005 * y['jeevan_bhima_nagar_bin'] + \\\n",
    "         0.0009 * y['old_airport_road_bin'] + 0.0009 * y['st._marks_road_bin']"
   ]
  },
  {
   "cell_type": "code",
   "execution_count": null,
   "id": "e7a69817",
   "metadata": {},
   "outputs": [],
   "source": []
  },
  {
   "cell_type": "code",
   "execution_count": null,
   "id": "4c93230f",
   "metadata": {},
   "outputs": [],
   "source": []
  },
  {
   "cell_type": "code",
   "execution_count": null,
   "id": "32ff6dfb",
   "metadata": {},
   "outputs": [],
   "source": []
  },
  {
   "cell_type": "code",
   "execution_count": null,
   "id": "612aa640",
   "metadata": {},
   "outputs": [],
   "source": []
  },
  {
   "cell_type": "code",
   "execution_count": null,
   "id": "d28a1764",
   "metadata": {},
   "outputs": [],
   "source": []
  },
  {
   "cell_type": "code",
   "execution_count": null,
   "id": "19b49071",
   "metadata": {},
   "outputs": [],
   "source": []
  },
  {
   "cell_type": "code",
   "execution_count": null,
   "id": "96e69d94",
   "metadata": {},
   "outputs": [],
   "source": []
  },
  {
   "cell_type": "code",
   "execution_count": null,
   "id": "c0b40264",
   "metadata": {},
   "outputs": [],
   "source": []
  },
  {
   "cell_type": "code",
   "execution_count": 73,
   "id": "7b0d86b7",
   "metadata": {},
   "outputs": [
    {
     "ename": "PulpSolverError",
     "evalue": "PuLP: Error while executing glpsol.exe",
     "output_type": "error",
     "traceback": [
      "\u001b[1;31m---------------------------------------------------------------------------\u001b[0m",
      "\u001b[1;31mPulpSolverError\u001b[0m                           Traceback (most recent call last)",
      "\u001b[1;32m<ipython-input-73-7ca0c421a9f3>\u001b[0m in \u001b[0;36m<module>\u001b[1;34m\u001b[0m\n\u001b[1;32m----> 1\u001b[1;33m \u001b[0mstatus\u001b[0m \u001b[1;33m=\u001b[0m \u001b[0mmodel\u001b[0m\u001b[1;33m.\u001b[0m\u001b[0msolve\u001b[0m\u001b[1;33m(\u001b[0m\u001b[1;33m)\u001b[0m\u001b[1;33m\u001b[0m\u001b[1;33m\u001b[0m\u001b[0m\n\u001b[0m",
      "\u001b[1;32m~\\Anaconda3\\envs\\ban530\\lib\\site-packages\\pulp\\pulp.py\u001b[0m in \u001b[0;36msolve\u001b[1;34m(self, solver, **kwargs)\u001b[0m\n\u001b[0;32m   1735\u001b[0m         \u001b[1;31m#time it\u001b[0m\u001b[1;33m\u001b[0m\u001b[1;33m\u001b[0m\u001b[1;33m\u001b[0m\u001b[0m\n\u001b[0;32m   1736\u001b[0m         \u001b[0mself\u001b[0m\u001b[1;33m.\u001b[0m\u001b[0msolutionTime\u001b[0m \u001b[1;33m=\u001b[0m \u001b[1;33m-\u001b[0m\u001b[0mclock\u001b[0m\u001b[1;33m(\u001b[0m\u001b[1;33m)\u001b[0m\u001b[1;33m\u001b[0m\u001b[1;33m\u001b[0m\u001b[0m\n\u001b[1;32m-> 1737\u001b[1;33m         \u001b[0mstatus\u001b[0m \u001b[1;33m=\u001b[0m \u001b[0msolver\u001b[0m\u001b[1;33m.\u001b[0m\u001b[0mactualSolve\u001b[0m\u001b[1;33m(\u001b[0m\u001b[0mself\u001b[0m\u001b[1;33m,\u001b[0m \u001b[1;33m**\u001b[0m\u001b[0mkwargs\u001b[0m\u001b[1;33m)\u001b[0m\u001b[1;33m\u001b[0m\u001b[1;33m\u001b[0m\u001b[0m\n\u001b[0m\u001b[0;32m   1738\u001b[0m         \u001b[0mself\u001b[0m\u001b[1;33m.\u001b[0m\u001b[0msolutionTime\u001b[0m \u001b[1;33m+=\u001b[0m \u001b[0mclock\u001b[0m\u001b[1;33m(\u001b[0m\u001b[1;33m)\u001b[0m\u001b[1;33m\u001b[0m\u001b[1;33m\u001b[0m\u001b[0m\n\u001b[0;32m   1739\u001b[0m         \u001b[0mself\u001b[0m\u001b[1;33m.\u001b[0m\u001b[0mrestoreObjective\u001b[0m\u001b[1;33m(\u001b[0m\u001b[0mwasNone\u001b[0m\u001b[1;33m,\u001b[0m \u001b[0mdummyVar\u001b[0m\u001b[1;33m)\u001b[0m\u001b[1;33m\u001b[0m\u001b[1;33m\u001b[0m\u001b[0m\n",
      "\u001b[1;32m~\\Anaconda3\\envs\\ban530\\lib\\site-packages\\pulp\\apis\\glpk_api.py\u001b[0m in \u001b[0;36mactualSolve\u001b[1;34m(self, lp)\u001b[0m\n\u001b[0;32m     91\u001b[0m \u001b[1;33m\u001b[0m\u001b[0m\n\u001b[0;32m     92\u001b[0m         \u001b[1;32mif\u001b[0m \u001b[1;32mnot\u001b[0m \u001b[0mos\u001b[0m\u001b[1;33m.\u001b[0m\u001b[0mpath\u001b[0m\u001b[1;33m.\u001b[0m\u001b[0mexists\u001b[0m\u001b[1;33m(\u001b[0m\u001b[0mtmpSol\u001b[0m\u001b[1;33m)\u001b[0m\u001b[1;33m:\u001b[0m\u001b[1;33m\u001b[0m\u001b[1;33m\u001b[0m\u001b[0m\n\u001b[1;32m---> 93\u001b[1;33m             \u001b[1;32mraise\u001b[0m \u001b[0mPulpSolverError\u001b[0m\u001b[1;33m(\u001b[0m\u001b[1;34m\"PuLP: Error while executing \"\u001b[0m\u001b[1;33m+\u001b[0m\u001b[0mself\u001b[0m\u001b[1;33m.\u001b[0m\u001b[0mpath\u001b[0m\u001b[1;33m)\u001b[0m\u001b[1;33m\u001b[0m\u001b[1;33m\u001b[0m\u001b[0m\n\u001b[0m\u001b[0;32m     94\u001b[0m         \u001b[0mstatus\u001b[0m\u001b[1;33m,\u001b[0m \u001b[0mvalues\u001b[0m \u001b[1;33m=\u001b[0m \u001b[0mself\u001b[0m\u001b[1;33m.\u001b[0m\u001b[0mreadsol\u001b[0m\u001b[1;33m(\u001b[0m\u001b[0mtmpSol\u001b[0m\u001b[1;33m)\u001b[0m\u001b[1;33m\u001b[0m\u001b[1;33m\u001b[0m\u001b[0m\n\u001b[0;32m     95\u001b[0m         \u001b[0mlp\u001b[0m\u001b[1;33m.\u001b[0m\u001b[0massignVarsVals\u001b[0m\u001b[1;33m(\u001b[0m\u001b[0mvalues\u001b[0m\u001b[1;33m)\u001b[0m\u001b[1;33m\u001b[0m\u001b[1;33m\u001b[0m\u001b[0m\n",
      "\u001b[1;31mPulpSolverError\u001b[0m: PuLP: Error while executing glpsol.exe"
     ]
    }
   ],
   "source": [
    "status = model.solve()"
   ]
  },
  {
   "cell_type": "code",
   "execution_count": 63,
   "id": "91baff02",
   "metadata": {},
   "outputs": [
    {
     "name": "stdout",
     "output_type": "stream",
     "text": [
      "status: 1, Optimal\n"
     ]
    }
   ],
   "source": [
    "print(f\"status: {model.status}, {LpStatus[model.status]}\")"
   ]
  },
  {
   "cell_type": "code",
   "execution_count": 41,
   "id": "19d5849d",
   "metadata": {},
   "outputs": [
    {
     "name": "stdout",
     "output_type": "stream",
     "text": [
      "objective: 0.09400000000000001\n"
     ]
    }
   ],
   "source": [
    "print(f\"objective: {model.objective.value()}\")"
   ]
  },
  {
   "cell_type": "code",
   "execution_count": 42,
   "id": "f32dda5b",
   "metadata": {},
   "outputs": [
    {
     "name": "stdout",
     "output_type": "stream",
     "text": [
      "xamerican_bin: 0\n",
      "xandhra_bin: 0\n",
      "xarabian_bin: 0\n",
      "xasian_bin: 0\n",
      "xbbq_bin: 0\n",
      "xbengali_bin: 0\n",
      "xbeverages_bin: 0\n",
      "xbiryani_bin: 1\n",
      "xburger_bin: 0\n",
      "xchinese_bin: 1\n",
      "xcontinental_bin: 0\n",
      "xdesserts_bin: 0\n",
      "xfast_food_bin: 0\n",
      "xhealthy_food_bin: 0\n",
      "xitalian_bin: 0\n",
      "xjuices_bin: 0\n",
      "xkebab_bin: 0\n",
      "xkerala_bin: 0\n",
      "xmangalorean_bin: 0\n",
      "xmomos_bin: 0\n",
      "xmughlai_bin: 0\n",
      "xnorth_indian_bin: 1\n",
      "xother_bin: 1\n",
      "xpizza_bin: 0\n",
      "xrolls_bin: 0\n",
      "xsalad_bin: 0\n",
      "xsandwich_bin: 0\n",
      "xseafood_bin: 0\n",
      "xsouth_indian_bin: 0\n",
      "xstreet_food_bin: 0\n",
      "xthai_bin: 0\n",
      "ybanashankari_bin: 0\n",
      "ybanaswadi_bin: 0\n",
      "ybannerghatta_road_bin: 0\n",
      "ybasavanagudi_bin: 0\n",
      "ybellandur_bin: 0\n",
      "ybrigade_road_bin: 0\n",
      "ybrookefield_bin: 0\n",
      "ybtm_bin: 0\n",
      "ychurch_street_bin: 0\n",
      "ycunningham_road_bin: 0\n",
      "ydomlur_bin: 0\n",
      "yejipura_bin: 0\n",
      "yelectronic_city_bin: 0\n",
      "yfrazer_town_bin: 0\n",
      "yhsr_bin: 0\n",
      "yindiranagar_bin: 0\n",
      "yjayanagar_bin: 0\n",
      "yjeevan_bhima_nagar_bin: 0\n",
      "yjp_nagar_bin: 0\n",
      "ykalyan_nagar_bin: 0\n",
      "ykammanahalli_bin: 0\n",
      "ykoramangala_1st_block_bin: 0\n",
      "ykoramangala_4th_block_bin: 0\n",
      "ykoramangala_5th_block_bin: 0\n",
      "ykoramangala_6th_block_bin: 0\n",
      "ykoramangala_7th_block_bin: 0\n",
      "ymalleshwaram_bin: 0\n",
      "ymarathahalli_bin: 0\n",
      "ymg_road_bin: 1\n",
      "ynew_bel_road_bin: 0\n",
      "yold_airport_road_bin: 0\n",
      "yrajajinagar_bin: 0\n",
      "yresidency_road_bin: 0\n",
      "yrichmond_road_bin: 0\n",
      "ysarjapur_road_bin: 0\n",
      "yshanti_nagar_bin: 0\n",
      "yshivajinagar_bin: 0\n",
      "yst._marks_road_bin: 0\n",
      "yulsoor_bin: 0\n",
      "ywhitefield_bin: 0\n"
     ]
    }
   ],
   "source": [
    "for var in model.variables():\n",
    "    print(f\"{var.name}: {var.value()}\")"
   ]
  },
  {
   "cell_type": "code",
   "execution_count": 15,
   "id": "bad30bd1",
   "metadata": {},
   "outputs": [
    {
     "data": {
      "text/plain": [
       "<pulp.apis.glpk_api.GLPK_CMD at 0x21341ecdc40>"
      ]
     },
     "execution_count": 15,
     "metadata": {},
     "output_type": "execute_result"
    }
   ],
   "source": [
    "model.solver"
   ]
  },
  {
   "cell_type": "code",
   "execution_count": null,
   "id": "72b79209",
   "metadata": {},
   "outputs": [],
   "source": []
  }
 ],
 "metadata": {
  "kernelspec": {
   "display_name": "Python 3",
   "language": "python",
   "name": "python3"
  },
  "language_info": {
   "codemirror_mode": {
    "name": "ipython",
    "version": 3
   },
   "file_extension": ".py",
   "mimetype": "text/x-python",
   "name": "python",
   "nbconvert_exporter": "python",
   "pygments_lexer": "ipython3",
   "version": "3.9.2"
  }
 },
 "nbformat": 4,
 "nbformat_minor": 5
}
